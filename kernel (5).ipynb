{
  "cells": [
    {
      "metadata": {
        "_uuid": "8f2839f25d086af736a60e9eeb907d3b93b6e0e5",
        "_cell_guid": "b1076dfc-b9ad-4769-8c92-a6c4dae69d19",
        "trusted": true
      },
      "cell_type": "code",
      "source": "import numpy as np \nimport pandas as pd \nfrom time import time\nimport re\nimport string\nimport os\n#import emoji\nfrom pprint import pprint\nimport collections\nfrom keras import Sequential\nimport matplotlib.pyplot as plt\nimport seaborn as sns\nsns.set(style=\"darkgrid\")\nsns.set(font_scale=1.3)\nfrom sklearn.base import BaseEstimator, TransformerMixin\nfrom sklearn.feature_extraction.text import CountVectorizer\nfrom sklearn.feature_extraction.text import TfidfVectorizer\nfrom sklearn.model_selection import GridSearchCV\nfrom sklearn.model_selection import train_test_split\nfrom sklearn.pipeline import Pipeline, FeatureUnion\nfrom sklearn.metrics import classification_report\nfrom sklearn.naive_bayes import MultinomialNB\nfrom sklearn.linear_model import LogisticRegression\nfrom sklearn.externals import joblib\n#import gensim\nfrom nltk.corpus import stopwords\nfrom nltk.stem import PorterStemmer\nfrom nltk.tokenize import word_tokenize\nimport warnings\nwarnings.filterwarnings('ignore')\nnp.random.seed(37)\nimport json\nimport string\nfrom pandas.io.json import json_normalize\nimport matplotlib.pyplot as plt\nimport seaborn as sns\ncolor = sns.color_palette()\n\n\nfrom sklearn import model_selection, preprocessing, metrics, ensemble, naive_bayes, linear_model\nfrom sklearn.feature_extraction.text import TfidfVectorizer, CountVectorizer\nfrom sklearn.decomposition import TruncatedSVD\nimport lightgbm as lgb\nfrom keras.preprocessing.text import Tokenizer\nfrom keras.preprocessing.sequence import pad_sequences\nfrom keras.layers import Dense, Input, LSTM, Embedding, Dropout, Activation, CuDNNGRU,CuDNNLSTM, Conv1D\nfrom keras.layers import Bidirectional, GlobalMaxPool1D, GlobalAveragePooling1D, GlobalMaxPooling1D\nfrom keras.models import Model\nfrom keras import initializers, regularizers, constraints, optimizers, layers\nfrom keras.utils.np_utils import to_categorical\nfrom sklearn.preprocessing import LabelEncoder\nfrom keras.layers import Input, Dense, Embedding, SpatialDropout1D, concatenate\nfrom sklearn.metrics import roc_auc_score\n",
      "execution_count": null,
      "outputs": []
    },
    {
      "metadata": {
        "trusted": true,
        "_uuid": "0435227fa50120ceab85708a1c2d13c8c05dd76b"
      },
      "cell_type": "code",
      "source": "os.listdir(\"../input/\")",
      "execution_count": null,
      "outputs": []
    },
    {
      "metadata": {
        "trusted": true,
        "_uuid": "27278c8b6af2c618f6949b3a59a02e9c354c7563"
      },
      "cell_type": "code",
      "source": "EMBEDDING_FILE = '../input/quora-insincere-questions-classification/embeddings/glove.840B.300d/glove.840B.300d.txt'",
      "execution_count": null,
      "outputs": []
    },
    {
      "metadata": {
        "trusted": true,
        "_uuid": "dd9173123cc4ce36a2c8a6a2c663d31c19f9c445"
      },
      "cell_type": "code",
      "source": "os.listdir(\"../input/\")\ntrain = pd.read_csv('../input/train.csv').fillna(' ')\ntest = pd.read_csv('../input/test.csv').fillna(' ')",
      "execution_count": null,
      "outputs": []
    },
    {
      "metadata": {
        "trusted": true,
        "_uuid": "16a8fed5fd650fa9cd69d5537c459b930b7f964d"
      },
      "cell_type": "code",
      "source": "train.head()",
      "execution_count": null,
      "outputs": []
    },
    {
      "metadata": {
        "trusted": true,
        "_uuid": "23c040692b8ae0fb36d644fef3d8b313932700cc"
      },
      "cell_type": "code",
      "source": "embed_size = 50 # how big is each word vector\nmax_features = 20000 # how many unique words to use (i.e num rows in embedding vector)\nmaxlen = 100 # max number of words in a comment to use\n",
      "execution_count": null,
      "outputs": []
    },
    {
      "metadata": {
        "trusted": true,
        "_uuid": "e20c01137e8175fc117c59597dd8d8e5360f6e2f"
      },
      "cell_type": "code",
      "source": "train_sentences = train[\"comment_text\"].fillna(\"_na_\").values\ntarget = [\"toxic\", \"severe_toxic\", \"obscene\", \"threat\", \"insult\", \"identity_hate\"]\ny = train[target].values\ntest_sentences = test[\"comment_text\"].fillna(\"_na_\").values",
      "execution_count": null,
      "outputs": []
    },
    {
      "metadata": {
        "trusted": true,
        "_uuid": "1f26bbfdefde47c0dc6886db47b9384441ae8b96"
      },
      "cell_type": "code",
      "source": "tokenizer = Tokenizer(num_words=max_features)\ntokenizer.fit_on_texts(list(train_sentences))\ntokenized_train = tokenizer.texts_to_sequences(train_sentences)\ntokenized_test = tokenizer.texts_to_sequences(test_sentences)\nX_train = pad_sequences(tokenized_train, maxlen=maxlen)\nX_test = pad_sequences(tokenized_test, maxlen=maxlen)\n",
      "execution_count": null,
      "outputs": []
    },
    {
      "metadata": {
        "trusted": true,
        "_uuid": "431ced4e701631057a2effd1e13c8171e278eff9"
      },
      "cell_type": "code",
      "source": "def get_coefs(word,*arr): return word, np.asarray(arr, dtype='float32')\nembeddings_index = dict(get_coefs(*o.split(\" \")) for o in open(EMBEDDING_FILE))\n",
      "execution_count": null,
      "outputs": []
    },
    {
      "metadata": {
        "trusted": true,
        "_uuid": "0f7060ea706dee1a4923975b3a30158525d570b9"
      },
      "cell_type": "code",
      "source": "all_embs = np.stack(embeddings_index.values())\nemb_mean,emb_std = all_embs.mean(), all_embs.std()\nembed_size = all_embs.shape[1]",
      "execution_count": null,
      "outputs": []
    },
    {
      "metadata": {
        "trusted": true,
        "_uuid": "2e1fab79a9d38f7c8763c3a8a524acec39e9b270"
      },
      "cell_type": "code",
      "source": "word_index = tokenizer.word_index\nnb_words = min(max_features, len(word_index))\nembedding_matrix = np.random.normal(emb_mean, emb_std, (nb_words, embed_size))\nfor word, i in word_index.items():\n    if i >= max_features: continue\n    embedding_vector = embeddings_index.get(word)\n    if embedding_vector is not None: embedding_matrix[i] = embedding_vector\n",
      "execution_count": null,
      "outputs": []
    },
    {
      "metadata": {
        "trusted": true,
        "_uuid": "fc00c6b3e1b62edc004810740904e0d84012464e"
      },
      "cell_type": "code",
      "source": "from keras.callbacks import Callback\nclass RocAucEvaluation(Callback):\n    def __init__(self, validation_data=(), interval=1):\n        super(Callback, self).__init__()\n\n        self.interval = interval\n        self.X_val, self.y_val = validation_data\n\n    def on_epoch_end(self, epoch, logs={}):\n        if epoch % self.interval == 0:\n            y_pred = self.model.predict(self.X_val, verbose=0)\n            score = roc_auc_score(self.y_val, y_pred)\n            print(\"\\n ROC-AUC - epoch: %d - score: %.6f \\n\" % (epoch+1, score))\n",
      "execution_count": null,
      "outputs": []
    },
    {
      "metadata": {
        "trusted": true,
        "_uuid": "23cc8b7fd9255edc496a4587264f69609c75ba5d"
      },
      "cell_type": "code",
      "source": "#embed_size=50\ninp = Input(shape=(maxlen, ))\nx = Embedding(max_features, embed_size)(inp)\nx = SpatialDropout1D(0.2)(x)\nx = Bidirectional(CuDNNGRU(80, return_sequences=True))(x)\navg_pool = GlobalAveragePooling1D()(x)\nmax_pool = GlobalMaxPooling1D()(x)\nconc = concatenate([avg_pool, max_pool])\noutp = Dense(6, activation=\"sigmoid\")(conc)\n    \nmodel = Model(inputs=inp, outputs=outp)\nmodel.compile(loss='binary_crossentropy',optimizer='adam',metrics=['accuracy'])",
      "execution_count": null,
      "outputs": []
    },
    {
      "metadata": {
        "trusted": true,
        "_uuid": "b6bff565cd40c0e5b8e9e4bc5092a8cb724d87aa"
      },
      "cell_type": "code",
      "source": "#from sklearn import (metrics, cross_validation, linear_model, preprocessing)\nbatch_size = 32\nepochs = 2\n\nn = 5  # repeat the CV procedure 10 times to get more precise results\nseed = 7\nnp.random.seed(seed)\nfor i in range(n):\n    # for each iteration, randomly hold out 20% of the data as CV set\n    X_tra, X_cv, y_train, y_cv = model_selection.train_test_split(\n    X_train, y, test_size=.20, random_state=seed)\n\n    # train model and make predictions\n    model.fit(X_tra, y_train,batch_size=batch_size, epochs=epochs, validation_data=(X_cv, y_cv),\n                 callbacks=[RocAuc], verbose=2) \n    preds = model.predict_proba(X_cv)[:, 1]\n\n    # compute AUC metric for this CV fold\n    fpr, tpr, thresholds = metrics.roc_curve(y_cv, preds)\n    roc_auc = metrics.auc(fpr, tpr)\n    print (\"AUC (fold %d/%d): %f\" % (i + 1, n, roc_auc))\n    mean_auc += roc_auc\n\nprint (\"Mean AUC: %f\" % (mean_auc/n)) ",
      "execution_count": null,
      "outputs": []
    },
    {
      "metadata": {
        "trusted": true,
        "_uuid": "a6ef847a5b5d65052bc1bf47e087e2e03297c2ca"
      },
      "cell_type": "code",
      "source": "batch_size = 32\nepochs = 2\n\nX_tra, X_val, y_tra, y_val = train_test_split(X_train, y, train_size=0.95, random_state=233)\nRocAuc = RocAucEvaluation(validation_data=(X_val, y_val), interval=1)",
      "execution_count": null,
      "outputs": []
    },
    {
      "metadata": {
        "trusted": true,
        "_uuid": "cb50c15084b85810ba2971f5ec77b673603f5e05"
      },
      "cell_type": "code",
      "source": "hist = model.fit(X_tra, y_tra, batch_size=batch_size, epochs=epochs, validation_data=(X_val, y_val),\n                 callbacks=[RocAuc], verbose=2)\n    ",
      "execution_count": null,
      "outputs": []
    },
    {
      "metadata": {
        "trusted": true,
        "_uuid": "6bb4a70008ab7060bd5bceeca7f41f3c73af8995"
      },
      "cell_type": "code",
      "source": "y_pred = model.predict(X_test, batch_size=1024)\n",
      "execution_count": null,
      "outputs": []
    },
    {
      "metadata": {
        "trusted": true,
        "_uuid": "fb774fba6f8d51c08a36bac234baa64cae3230bf"
      },
      "cell_type": "code",
      "source": "submission = pd.read_csv('../input/jigsaw-toxic-comment-classification-challenge/sample_submission.csv')\nsubmission[[\"toxic\", \"severe_toxic\", \"obscene\", \"threat\", \"insult\", \"identity_hate\"]] = y_pred\nsubmission.to_csv('submission.csv', index=False)",
      "execution_count": null,
      "outputs": []
    },
    {
      "metadata": {
        "trusted": true,
        "_uuid": "f200de16f2fdd862393c2e860259d64e136730db"
      },
      "cell_type": "code",
      "source": "",
      "execution_count": null,
      "outputs": []
    },
    {
      "metadata": {
        "trusted": true,
        "_uuid": "835c1b645fedc96ddf8aff712d66f3a6613fcd41"
      },
      "cell_type": "code",
      "source": "",
      "execution_count": null,
      "outputs": []
    },
    {
      "metadata": {
        "trusted": true,
        "_uuid": "a526475fc06bac08c5d63afe362467ddaa629d96"
      },
      "cell_type": "code",
      "source": "",
      "execution_count": null,
      "outputs": []
    },
    {
      "metadata": {
        "trusted": true,
        "_uuid": "32b2a443ff6f6082cb308191c018cf35de1780ac"
      },
      "cell_type": "code",
      "source": "",
      "execution_count": null,
      "outputs": []
    },
    {
      "metadata": {
        "trusted": true,
        "_uuid": "1e23f0a77fd14ee5408b463ee89c304a4095acd6"
      },
      "cell_type": "code",
      "source": "",
      "execution_count": null,
      "outputs": []
    },
    {
      "metadata": {
        "trusted": true,
        "_uuid": "41b05f79d54b95a5dd8dd49b2c562f0ebb50a04a"
      },
      "cell_type": "code",
      "source": "",
      "execution_count": null,
      "outputs": []
    },
    {
      "metadata": {
        "trusted": true,
        "_uuid": "1af2ffbf4a2a6b3ad4f6e1a0844c761a4f4b7f12"
      },
      "cell_type": "code",
      "source": "",
      "execution_count": null,
      "outputs": []
    },
    {
      "metadata": {
        "trusted": true,
        "_uuid": "c91d5400a007c1baadabbac459357363ad7a2bf4"
      },
      "cell_type": "code",
      "source": "",
      "execution_count": null,
      "outputs": []
    },
    {
      "metadata": {
        "trusted": true,
        "_uuid": "21363624b79fa4973fb4fea83bdc7cf5691b1df8"
      },
      "cell_type": "code",
      "source": "",
      "execution_count": null,
      "outputs": []
    },
    {
      "metadata": {
        "trusted": true,
        "_uuid": "065378020c31e5f9d681ff4f57e74a9db755e607"
      },
      "cell_type": "code",
      "source": "",
      "execution_count": null,
      "outputs": []
    },
    {
      "metadata": {
        "trusted": true,
        "_uuid": "77a699f6386970ad5100b20500775e21f4a0067c"
      },
      "cell_type": "code",
      "source": "",
      "execution_count": null,
      "outputs": []
    },
    {
      "metadata": {
        "trusted": true,
        "_uuid": "1be6ff4feaf9ae64dca72fdc755f97dc08998024"
      },
      "cell_type": "code",
      "source": "",
      "execution_count": null,
      "outputs": []
    },
    {
      "metadata": {
        "trusted": true,
        "_uuid": "0092fe3981f9e3ec69f1159e97d2d26c8bf3df29"
      },
      "cell_type": "code",
      "source": "",
      "execution_count": null,
      "outputs": []
    },
    {
      "metadata": {
        "trusted": true,
        "_uuid": "286dc97942e6f94e7dd8604b883c782ad0cca81d"
      },
      "cell_type": "code",
      "source": "",
      "execution_count": null,
      "outputs": []
    },
    {
      "metadata": {
        "trusted": true,
        "_uuid": "c7cb0311d9ac93ea64280d7c48d30958dd932a79"
      },
      "cell_type": "code",
      "source": "",
      "execution_count": null,
      "outputs": []
    },
    {
      "metadata": {
        "trusted": true,
        "_uuid": "fbe0e0ef3aa9aab157cd0cb4c73465c7638aab3d"
      },
      "cell_type": "code",
      "source": "",
      "execution_count": null,
      "outputs": []
    },
    {
      "metadata": {
        "trusted": true,
        "_uuid": "3b23ee60d7be0b6916aeced6a84dd0dd7e96d95b"
      },
      "cell_type": "code",
      "source": "",
      "execution_count": null,
      "outputs": []
    }
  ],
  "metadata": {
    "kernelspec": {
      "display_name": "Python 3",
      "language": "python",
      "name": "python3"
    },
    "language_info": {
      "name": "python",
      "version": "3.6.6",
      "mimetype": "text/x-python",
      "codemirror_mode": {
        "name": "ipython",
        "version": 3
      },
      "pygments_lexer": "ipython3",
      "nbconvert_exporter": "python",
      "file_extension": ".py"
    }
  },
  "nbformat": 4,
  "nbformat_minor": 1
}